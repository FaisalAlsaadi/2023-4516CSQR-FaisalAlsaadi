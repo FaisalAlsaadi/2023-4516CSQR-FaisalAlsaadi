{
 "cells": [
  {
   "cell_type": "code",
   "execution_count": null,
   "id": "2800f89f",
   "metadata": {},
   "outputs": [],
   "source": [
    "!pip install matplotlib"
   ]
  },
  {
   "cell_type": "code",
   "execution_count": 204,
   "id": "ffd05aa9",
   "metadata": {},
   "outputs": [],
   "source": [
    "## import packages and datasets\n",
    "import pandas as pd\n",
    "import numpy as np\n",
    "from matplotlib import pyplot as plt\n",
    "df1 = pd.read_csv('2020_population.csv')\n",
    "df2 = pd.read_csv('2021_population.csv')\n",
    "df3 = pd.read_csv('2022_population.csv')"
   ]
  },
  {
   "cell_type": "code",
   "execution_count": 205,
   "id": "a840bcad",
   "metadata": {},
   "outputs": [],
   "source": [
    "##After merging the dataframes I found there is some missing information from df1\n",
    "##exported the merged dataframe to an excel file, then using Excel's Conditional Formatting to find duplicates \n",
    "##discovered the missing data from df1 is: Democratic Republic of Congo, Republic of Congo, Saint Vincent and Grenadines and Isle Of Man\n",
    "##added a 'continent' column manually through Excel (after merging)\n",
    "##formatted the 'density' column in df1 to be like the other dataframes by removing certain text with Excel's \"find and replace\" feature\n",
    "##\n",
    "\n",
    "####################clean each dataframe by removing unneeded features#########################\n",
    "\n",
    "##rename features\n",
    "df1 = df1.rename(columns={'2020_population': 'population (2020)','rank': 'rank (2020)', 'density_sq_km': 'density (2020)','growth_rate': 'growth rate (2020)', 'world_%': 'world_% (2020)'})\n",
    "df2 = df2.rename(columns={'2021_population': 'population (2021)','rank': 'rank (2021)', 'density_/sq_km': 'density (2021)','growth_rate': 'growth rate (2021)', 'world_%': 'world_% (2021)'})\n",
    "df3 = df3.rename(columns={'2022_population': 'population (2022)','rank': 'rank (2022)', 'density_/sq_km': 'density (2022)','growth_rate': 'growth rate (2022)', 'world_%': 'world_% (2022)'})\n",
    "df2 = df2.rename(columns={'country': 'country_2021'})\n",
    "df3 = df3.rename(columns={'country': 'country_2022'})"
   ]
  },
  {
   "cell_type": "code",
   "execution_count": 206,
   "id": "b0351d66",
   "metadata": {},
   "outputs": [],
   "source": [
    "##first sorting them by country to align all data across the three dataframes \n",
    "df1.sort_values('country', ascending=True, inplace=True)\n",
    "df2.sort_values('country_2021', ascending=True, inplace=True)\n",
    "df3.sort_values('country_2022', ascending=True, inplace=True)\n",
    "\n",
    "##then removing unneeded features\n",
    "df1 = df1.drop('iso_code', axis=1)\n",
    "df1 = df1.drop('2021_last_updated', axis=1)\n",
    "\n",
    "df2 = df2.drop('iso_code', axis=1)\n",
    "df2 = df2.drop('2022_last_updated', axis=1)\n",
    "df2 = df2.drop('area_sq_km', axis=1)\n",
    "df2 = df2.drop('land_area_sq_km', axis=1)\n",
    "\n",
    "df3 = df3.drop('iso_code', axis=1)\n",
    "df3 = df3.drop('2023_last_updated', axis=1)\n",
    "df3 = df3.drop('area_sq_km', axis=1)\n",
    "df3 = df3.drop('land_area_sq_km', axis=1)"
   ]
  },
  {
   "cell_type": "code",
   "execution_count": 207,
   "id": "b7b50510",
   "metadata": {},
   "outputs": [],
   "source": [
    "##merge dataframes\n",
    "merged1 = df1.merge(df2, left_on='country', right_on='country_2021')\n",
    "merged2 = merged1.merge(df3, left_on='country', right_on='country_2022')"
   ]
  },
  {
   "cell_type": "code",
   "execution_count": 208,
   "id": "b6bbafd8",
   "metadata": {},
   "outputs": [],
   "source": [
    "##sorting columns lexicographically\n",
    "merged2 = merged2.reindex(sorted(merged2.columns), axis=1)\n",
    "df = merged2\n",
    "\n",
    "##placing (country) column first\n",
    "temp_cols=df.columns.tolist()\n",
    "index=df.columns.get_loc(\"country\")\n",
    "new_cols=temp_cols[index:index+1] + temp_cols[0:index] + temp_cols[index+1:]\n",
    "df=df[new_cols]\n",
    "\n",
    "##drop irrelevant columns\n",
    "df = df.drop('country_2021', axis=1)\n",
    "df = df.drop('country_2022', axis=1)\n",
    "df = df.drop('rank (2020)', axis=1)\n",
    "df = df.drop('rank (2021)', axis=1)\n",
    "df = df.drop('rank (2022)', axis=1)\n",
    "\n",
    "## remove \"%\" sign from the growth rate and world share columns\n",
    "df['growth rate (2020)'] = df['growth rate (2020)'].str.replace('%', '').astype(float)\n",
    "df['growth rate (2021)'] = df['growth rate (2021)'].str.replace('%', '').astype(float)\n",
    "df['growth rate (2022)'] = df['growth rate (2022)'].str.replace('%', '').astype(float)\n",
    "df['world_% (2020)'] = pd.to_numeric(df['world_% (2020)'].str.replace('%', ''), errors='coerce')\n",
    "df['world_% (2021)'] = pd.to_numeric(df['world_% (2021)'].str.replace('%', ''), errors='coerce')\n",
    "df['world_% (2022)'] = pd.to_numeric(df['world_% (2022)'].str.replace('%', ''), errors='coerce')"
   ]
  },
  {
   "cell_type": "code",
   "execution_count": 209,
   "id": "862bd070",
   "metadata": {},
   "outputs": [],
   "source": [
    "##saving dataframe to excel file to add missing information to it (the last 4 countries are missing data from dataframe df1)\n",
    "df.to_excel(\"modified1.xlsx\", index=False)"
   ]
  },
  {
   "cell_type": "code",
   "execution_count": null,
   "id": "80e35e38",
   "metadata": {},
   "outputs": [],
   "source": [
    "##load in the final cleans dataframe that I added a 'continent' column to\n",
    "df = pd.read_excel('final.xlsx')"
   ]
  },
  {
   "cell_type": "code",
   "execution_count": 264,
   "id": "9070c473",
   "metadata": {},
   "outputs": [],
   "source": [
    "######### \n",
    "##The questions to ask:\n",
    "#1- Which continent has the most/least population? (show piechart of world share for each continent)\n",
    "#2- Which continent had the most/least population growth?\n",
    "#3- Which continent has the most/least density?\n",
    "#4- Which continent has the most/least landmass?\n",
    "#5- Which continent has the most/least countries?\n",
    "#6- Which countries have negative growth and what are their count in each continent?"
   ]
  },
  {
   "cell_type": "code",
   "execution_count": 265,
   "id": "95349ae4",
   "metadata": {},
   "outputs": [],
   "source": [
    "##function to format numbers with commas\n",
    "def commas(number):\n",
    "    return format(number, ',')\n",
    "##function to return numbers with 2 decimal places\n",
    "def twodp(number):\n",
    "    return round(number, 2)"
   ]
  },
  {
   "cell_type": "code",
   "execution_count": null,
   "id": "65b9074b",
   "metadata": {},
   "outputs": [],
   "source": [
    "#Question 1: Which continent has the highest/least population\n",
    "\n",
    "continent_populations = df.groupby('continent')['population (2020)'].sum()\n",
    "max_continent = continent_populations.idxmax()\n",
    "min_continent = continent_populations.idxmin()\n",
    "continent_populations.plot(kind='bar')\n",
    "plt.xlabel('Continent')\n",
    "plt.ylabel('Population')\n",
    "plt.title(\"Continent populations 2020\\n\", fontsize=25)\n",
    "plt.show()\n",
    "print(f\"The continent with the highest population is {max_continent} with a population of {format_number(continent_populations[max_continent])}\")\n",
    "print(f\"The continent with the lowest population is {min_continent} with a population of {format_number(continent_populations[min_continent])}\")\n",
    "continent_populations = df.groupby('continent').sum()\n",
    "fig, ax = plt.subplots()\n",
    "ax.pie(continent_populations['population (2020)'], labels=continent_populations.index, autopct='%1.1f%%')\n",
    "plt.show()\n",
    "continent_populations = df.groupby('continent')['population (2021)'].sum()\n",
    "max_continent = continent_populations.idxmax()\n",
    "min_continent = continent_populations.idxmin()\n",
    "continent_populations.plot(kind='bar')\n",
    "plt.xlabel('Continent')\n",
    "plt.ylabel('Population')\n",
    "plt.title(\"Continent populations 2021\\n\", fontsize=25)\n",
    "plt.show()\n",
    "print(f\"The continent with the highest population is {max_continent} with a population of {format_number(continent_populations[max_continent])}\")\n",
    "print(f\"The continent with the lowest population is {min_continent} with a population of {format_number(continent_populations[min_continent])}\")\n",
    "continent_populations = df.groupby('continent').sum()\n",
    "fig, ax = plt.subplots()\n",
    "ax.pie(continent_populations['population (2021)'], labels=continent_populations.index, autopct='%1.1f%%')\n",
    "plt.show()\n",
    "continent_populations = df.groupby('continent')['population (2022)'].sum()\n",
    "max_continent = continent_populations.idxmax()\n",
    "min_continent = continent_populations.idxmin()\n",
    "continent_populations.plot(kind='bar')\n",
    "plt.xlabel('Continent')\n",
    "plt.ylabel('Population')\n",
    "plt.title(\"Continent populations 2022\\n\", fontsize=25)\n",
    "plt.show()\n",
    "print(f\"The continent with the highest population is {max_continent} with a population of {format_number(continent_populations[max_continent])}\")\n",
    "print(f\"The continent with the lowest population is {min_continent} with a population of {format_number(continent_populations[min_continent])}\")\n",
    "continent_populations = df.groupby('continent').sum()\n",
    "fig, ax = plt.subplots()\n",
    "ax.pie(continent_populations['population (2022)'], labels=continent_populations.index, autopct='%1.1f%%')\n",
    "plt.show()"
   ]
  },
  {
   "cell_type": "code",
   "execution_count": null,
   "id": "36bd37bc",
   "metadata": {},
   "outputs": [],
   "source": [
    "#Question 2: which continent had the most population growth?\n",
    "\n",
    "continent_growth_rates = df.groupby('continent')['growth rate (2020)'].mean()\n",
    "max_continent = continent_growth_rates.idxmax()\n",
    "min_continent = continent_growth_rates.idxmin()\n",
    "continent_growth_rates.plot(kind='bar')\n",
    "plt.xlabel('Continent')\n",
    "plt.ylabel('Average Growth Rate (%)')\n",
    "plt.title(\"Growth Rates Per Continent (2020)\\n\", fontsize=25)\n",
    "plt.show()\n",
    "print(f\"The continent with the highest average growth rate is {max_continent} with a growth rate of {twodp(continent_growth_rates[max_continent])}%\")\n",
    "print(f\"The continent with the lowest average growth rate is {min_continent} with a growth rate of {twodp(continent_growth_rates[min_continent])}%\")\n",
    "continent_growth_rates = df.groupby('continent')['growth rate (2021)'].mean()\n",
    "max_continent = continent_growth_rates.idxmax()\n",
    "min_continent = continent_growth_rates.idxmin()\n",
    "continent_growth_rates.plot(kind='bar')\n",
    "plt.xlabel('Continent')\n",
    "plt.title(\"Growth Rates Per Continent (2021)\\n\", fontsize=25)\n",
    "plt.ylabel('Average Growth Rate (%)')\n",
    "plt.show()\n",
    "print(f\"The continent with the highest average growth rate is {max_continent} with a growth rate of {twodp(continent_growth_rates[max_continent])}%\")\n",
    "print(f\"The continent with the lowest average growth rate is {min_continent} with a growth rate of {twodp(continent_growth_rates[min_continent])}%\")\n",
    "continent_growth_rates = df.groupby('continent')['growth rate (2022)'].mean()\n",
    "max_continent = continent_growth_rates.idxmax()\n",
    "min_continent = continent_growth_rates.idxmin()\n",
    "continent_growth_rates.plot(kind='bar')\n",
    "plt.xlabel('Continent')\n",
    "plt.ylabel('Average Growth Rate 2020(%)')\n",
    "plt.title(\"Growth Rates Per Continent (2022)\\n\", fontsize=25)\n",
    "plt.show()\n",
    "print(f\"The continent with the highest average growth rate is {max_continent} with a growth rate of {twodp(continent_growth_rates[max_continent])}%\")\n",
    "print(f\"The continent with the lowest average growth rate is {min_continent} with a growth rate of {twodp(continent_growth_rates[min_continent])}%\")\n",
    "continent_means = df.groupby('continent')[['growth rate (2020)', 'growth rate (2021)', 'growth rate (2022)']].mean()\n",
    "years = ['2020', '2021', '2022']\n",
    "for continent in continent_means.index:\n",
    "    plt.plot(years, continent_means.loc[continent], label=continent)\n",
    "plt.title('Mean Growth Rate by Continent')\n",
    "plt.xlabel('Year')\n",
    "plt.ylabel('Mean Growth Rate (%)')\n",
    "plt.legend()\n",
    "plt.show()"
   ]
  },
  {
   "cell_type": "code",
   "execution_count": null,
   "id": "c56467b2",
   "metadata": {},
   "outputs": [],
   "source": [
    "#Question 3 - Average density in each continent compared\n",
    "\n",
    "continent_means = df.groupby('continent')[['density (2020)', 'density (2021)', 'density (2022)']].mean()\n",
    "yearsx = ['2020', '2021', '2022']\n",
    "for continent in continent_means.index:\n",
    "    plt.plot(yearsx, continent_means.loc[continent].values, label=continent)\n",
    "plt.title('Average density by Continent\\n', fontsize=25)\n",
    "plt.xlabel('Year')\n",
    "plt.ylabel('Mean Density (%)')\n",
    "plt.legend()\n",
    "plt.show()"
   ]
  },
  {
   "cell_type": "code",
   "execution_count": null,
   "id": "ae46be88",
   "metadata": {},
   "outputs": [],
   "source": [
    "##Question 4 - landmass\n",
    "\n",
    "continent_landmass = df.groupby('continent')['area km sq'].sum()\n",
    "max_continent = continent_landmass.idxmax()\n",
    "min_continent = continent_landmass.idxmin()\n",
    "continent_landmass.plot(kind='bar')\n",
    "plt.xlabel('Continent')\n",
    "plt.ylabel('Landmass')\n",
    "plt.title(\"Continent Landmass\\n\", fontsize=25)\n",
    "plt.show()\n",
    "print(f\"The continent with the highest landmass is {max_continent} with an area of {format_number(continent_landmass[max_continent])}km\\u00B2\")\n",
    "print(f\"The continent with the lowest landmass is {min_continent} with an area of {format_number(continent_landmass[min_continent])}km\\u00B2\")"
   ]
  },
  {
   "cell_type": "code",
   "execution_count": null,
   "id": "7bdf8fa7",
   "metadata": {},
   "outputs": [],
   "source": [
    "#5- which continent has the most/least countries?\n",
    "\n",
    "counts = df.groupby('continent')['country'].count()\n",
    "counts.plot(kind='bar')\n",
    "plt.title('Number of countries by continent')\n",
    "plt.xlabel('Continent')\n",
    "plt.ylabel('Number of countries')\n",
    "plt.show()\n",
    "print(counts)"
   ]
  },
  {
   "cell_type": "code",
   "execution_count": null,
   "id": "16f3595b",
   "metadata": {},
   "outputs": [],
   "source": [
    "#6- which countries have negative growth?\n",
    "\n",
    "negative_growth_countries = df[df['growth rate (2022)'] < 0]\n",
    "sorted_countries = negative_growth_countries.sort_values('country')\n",
    "count_by_continent = sorted_countries.groupby('continent').agg({'country': 'count'}).sort_values('country', ascending=False)\n",
    "print(sorted_countries[['country', 'growth rate (2022)', 'continent']].to_string(index=False))\n",
    "print()\n",
    "print(count_by_continent.to_string())"
   ]
  }
 ],
 "metadata": {
  "kernelspec": {
   "display_name": "Python 3 (ipykernel)",
   "language": "python",
   "name": "python3"
  },
  "language_info": {
   "codemirror_mode": {
    "name": "ipython",
    "version": 3
   },
   "file_extension": ".py",
   "mimetype": "text/x-python",
   "name": "python",
   "nbconvert_exporter": "python",
   "pygments_lexer": "ipython3",
   "version": "3.9.7"
  }
 },
 "nbformat": 4,
 "nbformat_minor": 5
}
